{
 "cells": [
  {
   "cell_type": "code",
   "execution_count": 1,
   "metadata": {},
   "outputs": [],
   "source": [
    "import pandas as pd\n",
    "import numpy as np"
   ]
  },
  {
   "cell_type": "code",
   "execution_count": 2,
   "metadata": {},
   "outputs": [
    {
     "name": "stderr",
     "output_type": "stream",
     "text": [
      "/Users/Rishab/opt/anaconda3/lib/python3.7/site-packages/IPython/core/interactiveshell.py:3063: DtypeWarning: Columns (40) have mixed types.Specify dtype option on import or set low_memory=False.\n",
      "  interactivity=interactivity, compiler=compiler, result=result)\n"
     ]
    }
   ],
   "source": [
    "data=pd.read_csv(\"SY30_RIDECHECK_DATA.csv\")"
   ]
  },
  {
   "cell_type": "code",
   "execution_count": 3,
   "metadata": {},
   "outputs": [],
   "source": [
    "data.sort_values(by=[\"SERIAL_NUMBER\",\"SORT_ORDER\",\"TIME_ACTUAL_ARRIVE\"],inplace=True)\n",
    "#data.head()\n",
    "#data.to_csv(\"Rule1-Input.csv\")"
   ]
  },
  {
   "cell_type": "code",
   "execution_count": 4,
   "metadata": {},
   "outputs": [],
   "source": [
    "data.TIME_ACTUAL_ARRIVE=pd.to_datetime(data.TIME_ACTUAL_ARRIVE)\n",
    "data.STOP_ID=pd.to_numeric(data.STOP_ID)\n",
    "data.TIMEPOINT=pd.to_numeric(data.TIMEPOINT)"
   ]
  },
  {
   "cell_type": "code",
   "execution_count": 9,
   "metadata": {},
   "outputs": [
    {
     "data": {
      "text/plain": [
       "False"
      ]
     },
     "execution_count": 9,
     "metadata": {},
     "output_type": "execute_result"
    }
   ],
   "source": [
    "abs((data.TIME_ACTUAL_ARRIVE[540]-data.TIME_ACTUAL_ARRIVE[538]).total_seconds()) > abs((data.TIME_ACTUAL_ARRIVE[538]-data.TIME_ACTUAL_ARRIVE[537]).total_seconds())"
   ]
  },
  {
   "cell_type": "code",
   "execution_count": 10,
   "metadata": {},
   "outputs": [
    {
     "name": "stderr",
     "output_type": "stream",
     "text": [
      "/Users/Rishab/opt/anaconda3/lib/python3.7/site-packages/ipykernel_launcher.py:44: SettingWithCopyWarning: \n",
      "A value is trying to be set on a copy of a slice from a DataFrame\n",
      "\n",
      "See the caveats in the documentation: https://pandas.pydata.org/pandas-docs/stable/user_guide/indexing.html#returning-a-view-versus-a-copy\n",
      "/Users/Rishab/opt/anaconda3/lib/python3.7/site-packages/ipykernel_launcher.py:45: SettingWithCopyWarning: \n",
      "A value is trying to be set on a copy of a slice from a DataFrame\n",
      "\n",
      "See the caveats in the documentation: https://pandas.pydata.org/pandas-docs/stable/user_guide/indexing.html#returning-a-view-versus-a-copy\n",
      "/Users/Rishab/opt/anaconda3/lib/python3.7/site-packages/ipykernel_launcher.py:46: SettingWithCopyWarning: \n",
      "A value is trying to be set on a copy of a slice from a DataFrame\n",
      "\n",
      "See the caveats in the documentation: https://pandas.pydata.org/pandas-docs/stable/user_guide/indexing.html#returning-a-view-versus-a-copy\n",
      "/Users/Rishab/opt/anaconda3/lib/python3.7/site-packages/ipykernel_launcher.py:50: SettingWithCopyWarning: \n",
      "A value is trying to be set on a copy of a slice from a DataFrame\n",
      "\n",
      "See the caveats in the documentation: https://pandas.pydata.org/pandas-docs/stable/user_guide/indexing.html#returning-a-view-versus-a-copy\n",
      "/Users/Rishab/opt/anaconda3/lib/python3.7/site-packages/ipykernel_launcher.py:51: SettingWithCopyWarning: \n",
      "A value is trying to be set on a copy of a slice from a DataFrame\n",
      "\n",
      "See the caveats in the documentation: https://pandas.pydata.org/pandas-docs/stable/user_guide/indexing.html#returning-a-view-versus-a-copy\n",
      "/Users/Rishab/opt/anaconda3/lib/python3.7/site-packages/ipykernel_launcher.py:8: SettingWithCopyWarning: \n",
      "A value is trying to be set on a copy of a slice from a DataFrame\n",
      "\n",
      "See the caveats in the documentation: https://pandas.pydata.org/pandas-docs/stable/user_guide/indexing.html#returning-a-view-versus-a-copy\n",
      "  \n",
      "/Users/Rishab/opt/anaconda3/lib/python3.7/site-packages/ipykernel_launcher.py:9: SettingWithCopyWarning: \n",
      "A value is trying to be set on a copy of a slice from a DataFrame\n",
      "\n",
      "See the caveats in the documentation: https://pandas.pydata.org/pandas-docs/stable/user_guide/indexing.html#returning-a-view-versus-a-copy\n",
      "  if __name__ == '__main__':\n",
      "/Users/Rishab/opt/anaconda3/lib/python3.7/site-packages/ipykernel_launcher.py:10: SettingWithCopyWarning: \n",
      "A value is trying to be set on a copy of a slice from a DataFrame\n",
      "\n",
      "See the caveats in the documentation: https://pandas.pydata.org/pandas-docs/stable/user_guide/indexing.html#returning-a-view-versus-a-copy\n",
      "  # Remove the CWD from sys.path while we load stuff.\n",
      "/Users/Rishab/opt/anaconda3/lib/python3.7/site-packages/ipykernel_launcher.py:14: SettingWithCopyWarning: \n",
      "A value is trying to be set on a copy of a slice from a DataFrame\n",
      "\n",
      "See the caveats in the documentation: https://pandas.pydata.org/pandas-docs/stable/user_guide/indexing.html#returning-a-view-versus-a-copy\n",
      "  \n",
      "/Users/Rishab/opt/anaconda3/lib/python3.7/site-packages/ipykernel_launcher.py:15: SettingWithCopyWarning: \n",
      "A value is trying to be set on a copy of a slice from a DataFrame\n",
      "\n",
      "See the caveats in the documentation: https://pandas.pydata.org/pandas-docs/stable/user_guide/indexing.html#returning-a-view-versus-a-copy\n",
      "  from ipykernel import kernelapp as app\n",
      "/Users/Rishab/opt/anaconda3/lib/python3.7/site-packages/ipykernel_launcher.py:20: SettingWithCopyWarning: \n",
      "A value is trying to be set on a copy of a slice from a DataFrame\n",
      "\n",
      "See the caveats in the documentation: https://pandas.pydata.org/pandas-docs/stable/user_guide/indexing.html#returning-a-view-versus-a-copy\n",
      "/Users/Rishab/opt/anaconda3/lib/python3.7/site-packages/ipykernel_launcher.py:21: SettingWithCopyWarning: \n",
      "A value is trying to be set on a copy of a slice from a DataFrame\n",
      "\n",
      "See the caveats in the documentation: https://pandas.pydata.org/pandas-docs/stable/user_guide/indexing.html#returning-a-view-versus-a-copy\n",
      "/Users/Rishab/opt/anaconda3/lib/python3.7/site-packages/ipykernel_launcher.py:22: SettingWithCopyWarning: \n",
      "A value is trying to be set on a copy of a slice from a DataFrame\n",
      "\n",
      "See the caveats in the documentation: https://pandas.pydata.org/pandas-docs/stable/user_guide/indexing.html#returning-a-view-versus-a-copy\n",
      "/Users/Rishab/opt/anaconda3/lib/python3.7/site-packages/ipykernel_launcher.py:26: SettingWithCopyWarning: \n",
      "A value is trying to be set on a copy of a slice from a DataFrame\n",
      "\n",
      "See the caveats in the documentation: https://pandas.pydata.org/pandas-docs/stable/user_guide/indexing.html#returning-a-view-versus-a-copy\n",
      "/Users/Rishab/opt/anaconda3/lib/python3.7/site-packages/ipykernel_launcher.py:27: SettingWithCopyWarning: \n",
      "A value is trying to be set on a copy of a slice from a DataFrame\n",
      "\n",
      "See the caveats in the documentation: https://pandas.pydata.org/pandas-docs/stable/user_guide/indexing.html#returning-a-view-versus-a-copy\n",
      "/Users/Rishab/opt/anaconda3/lib/python3.7/site-packages/ipykernel_launcher.py:38: SettingWithCopyWarning: \n",
      "A value is trying to be set on a copy of a slice from a DataFrame\n",
      "\n",
      "See the caveats in the documentation: https://pandas.pydata.org/pandas-docs/stable/user_guide/indexing.html#returning-a-view-versus-a-copy\n",
      "/Users/Rishab/opt/anaconda3/lib/python3.7/site-packages/ipykernel_launcher.py:39: SettingWithCopyWarning: \n",
      "A value is trying to be set on a copy of a slice from a DataFrame\n",
      "\n",
      "See the caveats in the documentation: https://pandas.pydata.org/pandas-docs/stable/user_guide/indexing.html#returning-a-view-versus-a-copy\n",
      "/Users/Rishab/opt/anaconda3/lib/python3.7/site-packages/ipykernel_launcher.py:32: SettingWithCopyWarning: \n",
      "A value is trying to be set on a copy of a slice from a DataFrame\n",
      "\n",
      "See the caveats in the documentation: https://pandas.pydata.org/pandas-docs/stable/user_guide/indexing.html#returning-a-view-versus-a-copy\n",
      "/Users/Rishab/opt/anaconda3/lib/python3.7/site-packages/ipykernel_launcher.py:33: SettingWithCopyWarning: \n",
      "A value is trying to be set on a copy of a slice from a DataFrame\n",
      "\n",
      "See the caveats in the documentation: https://pandas.pydata.org/pandas-docs/stable/user_guide/indexing.html#returning-a-view-versus-a-copy\n",
      "/Users/Rishab/opt/anaconda3/lib/python3.7/site-packages/ipykernel_launcher.py:34: SettingWithCopyWarning: \n",
      "A value is trying to be set on a copy of a slice from a DataFrame\n",
      "\n",
      "See the caveats in the documentation: https://pandas.pydata.org/pandas-docs/stable/user_guide/indexing.html#returning-a-view-versus-a-copy\n"
     ]
    }
   ],
   "source": [
    "for i in range(1,len(data)):\n",
    "    \n",
    "    if (data.STOP_ID[i]==99999):\n",
    "        \n",
    "        if (data.TIMEPOINT[i+1]==-1 or data.STOP_ID[i+1]==99999):\n",
    "        \n",
    "            if abs((data.TIME_ACTUAL_ARRIVE[i+2]-data.TIME_ACTUAL_ARRIVE[i]).total_seconds()) > abs((data.TIME_ACTUAL_ARRIVE[i]-data.TIME_ACTUAL_ARRIVE[i-1]).total_seconds()):\n",
    "                data.PASSENGERS_ON[i-1] = data.PASSENGERS_ON[i-1] + data.PASSENGERS_ON[i]\n",
    "                data.PASSENGERS_OFF[i-1] = data.PASSENGERS_OFF[i-1] + data.PASSENGERS_OFF[i]\n",
    "                data.PASSENGERS_IN[i-1] = data.PASSENGERS_IN[i]\n",
    "\n",
    "\n",
    "            else :\n",
    "                data.PASSENGERS_ON[i+2] = data.PASSENGERS_ON[i+2] + data.PASSENGERS_ON[i]\n",
    "                data.PASSENGERS_OFF[i+2] = data.PASSENGERS_OFF[i+2] + data.PASSENGERS_OFF[i]\n",
    "                \n",
    "        if (data.TIMEPOINT[i-1]==-1 or data.STOP_ID[i-1]==99999):\n",
    "        \n",
    "            if abs((data.TIME_ACTUAL_ARRIVE[i+1]-data.TIME_ACTUAL_ARRIVE[i]).total_seconds()) > abs((data.TIME_ACTUAL_ARRIVE[i]-data.TIME_ACTUAL_ARRIVE[i-2]).total_seconds()):\n",
    "                data.PASSENGERS_ON[i-2] = data.PASSENGERS_ON[i-2] + data.PASSENGERS_ON[i]\n",
    "                data.PASSENGERS_OFF[i-2] = data.PASSENGERS_OFF[i-2] + data.PASSENGERS_OFF[i]\n",
    "                data.PASSENGERS_IN[i-2] = data.PASSENGERS_IN[i]\n",
    "\n",
    "\n",
    "            else :\n",
    "                data.PASSENGERS_ON[i+1] = data.PASSENGERS_ON[i+1] + data.PASSENGERS_ON[i]\n",
    "                data.PASSENGERS_OFF[i+1] = data.PASSENGERS_OFF[i+1] + data.PASSENGERS_OFF[i]\n",
    "                \n",
    "        if ((data.TIMEPOINT[i+1]==-1 and data.TIMEPOINT[i-1]==-1) or (data.STOP_ID[i+1]==99999 and data.STOP_ID[i-1]==99999)):\n",
    "        \n",
    "            if abs((data.TIME_ACTUAL_ARRIVE[i+2]-data.TIME_ACTUAL_ARRIVE[i]).total_seconds()) > abs((data.TIME_ACTUAL_ARRIVE[i]-data.TIME_ACTUAL_ARRIVE[i-2]).total_seconds()):\n",
    "                data.PASSENGERS_ON[i-2] = data.PASSENGERS_ON[i-2] + data.PASSENGERS_ON[i]\n",
    "                data.PASSENGERS_OFF[i-2] = data.PASSENGERS_OFF[i-2] + data.PASSENGERS_OFF[i]\n",
    "                data.PASSENGERS_IN[i-2] = data.PASSENGERS_IN[i]\n",
    "\n",
    "\n",
    "            else :\n",
    "                data.PASSENGERS_ON[i+2] = data.PASSENGERS_ON[i+2] + data.PASSENGERS_ON[i]\n",
    "                data.PASSENGERS_OFF[i+2] = data.PASSENGERS_OFF[i+2] + data.PASSENGERS_OFF[i]\n",
    "        \n",
    "        if (data.TIMEPOINT[i+1]==0 and data.TIMEPOINT[i-1]==0):\n",
    "            \n",
    "            if abs((data.TIME_ACTUAL_ARRIVE[i+1]-data.TIME_ACTUAL_ARRIVE[i]).total_seconds()) > abs((data.TIME_ACTUAL_ARRIVE[i]-data.TIME_ACTUAL_ARRIVE[i-1]).total_seconds()):\n",
    "                data.PASSENGERS_ON[i-1] = data.PASSENGERS_ON[i-1] + data.PASSENGERS_ON[i]\n",
    "                data.PASSENGERS_OFF[i-1] = data.PASSENGERS_OFF[i-1] + data.PASSENGERS_OFF[i]\n",
    "                data.PASSENGERS_IN[i-1] = data.PASSENGERS_IN[i]\n",
    "\n",
    "\n",
    "            else :\n",
    "                data.PASSENGERS_ON[i+1] = data.PASSENGERS_ON[i+1] + data.PASSENGERS_ON[i]\n",
    "                data.PASSENGERS_OFF[i+1] = data.PASSENGERS_OFF[i+1] + data.PASSENGERS_OFF[i]"
   ]
  },
  {
   "cell_type": "markdown",
   "metadata": {},
   "source": [
    "# "
   ]
  },
  {
   "cell_type": "code",
   "execution_count": 11,
   "metadata": {},
   "outputs": [],
   "source": [
    "data.drop(data[data['STOP_ID'] == 99999].index, inplace = True)\n",
    "            \n",
    "\n",
    "data.to_csv(\"Rule1-Test.csv\")"
   ]
  },
  {
   "cell_type": "code",
   "execution_count": null,
   "metadata": {},
   "outputs": [],
   "source": []
  }
 ],
 "metadata": {
  "kernelspec": {
   "display_name": "Python 3",
   "language": "python",
   "name": "python3"
  },
  "language_info": {
   "codemirror_mode": {
    "name": "ipython",
    "version": 3
   },
   "file_extension": ".py",
   "mimetype": "text/x-python",
   "name": "python",
   "nbconvert_exporter": "python",
   "pygments_lexer": "ipython3",
   "version": "3.7.6"
  }
 },
 "nbformat": 4,
 "nbformat_minor": 2
}
