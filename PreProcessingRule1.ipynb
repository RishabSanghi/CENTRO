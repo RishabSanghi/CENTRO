{
 "cells": [
  {
   "cell_type": "code",
   "execution_count": 1,
   "metadata": {},
   "outputs": [],
   "source": [
    "import pandas as pd\n",
    "import numpy as np"
   ]
  },
  {
   "cell_type": "code",
   "execution_count": 2,
   "metadata": {},
   "outputs": [],
   "source": [
    "data=pd.read_csv(\"SY30_RIDECHECK_DATA.csv\")"
   ]
  },
  {
   "cell_type": "code",
   "execution_count": 3,
   "metadata": {},
   "outputs": [],
   "source": [
    "data.sort_values(by=[\"SERIAL_NUMBER\",\"SORT_ORDER\",\"TIME_ACTUAL_ARRIVE\"],inplace=True,ignore_index=True)\n",
    "data['TIME_ACTUAL_ARRIVE'].fillna('1899-12-30 00:00:00',inplace=True)\n",
    "#data.head()\n",
    "#data.to_csv(\"Rule1-Input.csv\")"
   ]
  },
  {
   "cell_type": "code",
   "execution_count": 4,
   "metadata": {},
   "outputs": [],
   "source": [
    "data.TIME_ACTUAL_ARRIVE=pd.to_datetime(data.TIME_ACTUAL_ARRIVE)\n",
    "data.STOP_ID=pd.to_numeric(data.STOP_ID)\n",
    "data.TIMEPOINT=pd.to_numeric(data.TIMEPOINT)"
   ]
  },
  {
   "cell_type": "code",
   "execution_count": 5,
   "metadata": {},
   "outputs": [],
   "source": [
    "for i in range(1,len(data)):\n",
    "    \n",
    "    if (data.STOP_ID[i]==99999):\n",
    "        \n",
    "        if (data.TIMEPOINT[i+1]==-1):\n",
    "        \n",
    "            if abs((data.TIME_ACTUAL_ARRIVE[i+2]-data.TIME_ACTUAL_ARRIVE[i]).total_seconds()) > abs((data.TIME_ACTUAL_ARRIVE[i]-data.TIME_ACTUAL_ARRIVE[i-1]).total_seconds()):\n",
    "                new_PASSENGERS_ON = data.PASSENGERS_ON[i-1] + data.PASSENGERS_ON[i]\n",
    "                new_PASSENGERS_OFF = data.PASSENGERS_OFF[i-1] + data.PASSENGERS_OFF[i]\n",
    "                new_PASSENGER_IN = data.PASSENGERS_IN[i]\n",
    "                data.loc[i-1,\"PASSENGERS_ON\"] = new_PASSENGERS_ON\n",
    "                data.loc[i-1,\"PASSENGERS_OFF\"] = new_PASSENGERS_OFF\n",
    "                data.loc[i-1,\"PASSENGERS_IN\"] = new_PASSENGER_IN\n",
    "\n",
    "\n",
    "            else :\n",
    "                new_PASSENGERS_ON = data.PASSENGERS_ON[i+2] + data.PASSENGERS_ON[i]\n",
    "                new_PASSENGERS_OFF = data.PASSENGERS_OFF[i+2] + data.PASSENGERS_OFF[i]\n",
    "                data.loc[i+2, \"PASSENGERS_ON\"] = new_PASSENGERS_ON\n",
    "                data.loc[i+2,\"PASSENGERS_OFF\"] = new_PASSENGERS_OFF\n",
    "                \n",
    "        if (data.TIMEPOINT[i-1]==-1):\n",
    "        \n",
    "            if abs((data.TIME_ACTUAL_ARRIVE[i+1]-data.TIME_ACTUAL_ARRIVE[i]).total_seconds()) > abs((data.TIME_ACTUAL_ARRIVE[i]-data.TIME_ACTUAL_ARRIVE[i-2]).total_seconds()):\n",
    "                new_PASSENGERS_ON = data.PASSENGERS_ON[i-2] + data.PASSENGERS_ON[i]\n",
    "                new_PASSENGERS_OFF = data.PASSENGERS_OFF[i-2] + data.PASSENGERS_OFF[i]\n",
    "                new_PASSENGER_IN = data.PASSENGERS_IN[i]\n",
    "                data.loc[i-2,\"PASSENGERS_ON\"] = new_PASSENGERS_ON\n",
    "                data.loc[i-2,\"PASSENGERS_OFF\"] = new_PASSENGERS_OFF\n",
    "                data.loc[i-2,\"PASSENGERS_IN\"] = new_PASSENGER_IN\n",
    "\n",
    "            else :\n",
    "                new_PASSENGERS_ON = data.PASSENGERS_ON[i+1] + data.PASSENGERS_ON[i]\n",
    "                new_PASSENGERS_OFF = data.PASSENGERS_OFF[i+1] + data.PASSENGERS_OFF[i]\n",
    "                data.loc[i+1, \"PASSENGERS_ON\"] = new_PASSENGERS_ON\n",
    "                data.loc[i+1,\"PASSENGERS_OFF\"] = new_PASSENGERS_OFF\n",
    "                \n",
    "        if ((data.TIMEPOINT[i+1]==-1 and data.TIMEPOINT[i-1]==-1) or (data.STOP_ID[i+1]==99999 and data.STOP_ID[i-1]==99999)):\n",
    "        \n",
    "            if abs((data.TIME_ACTUAL_ARRIVE[i+2]-data.TIME_ACTUAL_ARRIVE[i]).total_seconds()) > abs((data.TIME_ACTUAL_ARRIVE[i]-data.TIME_ACTUAL_ARRIVE[i-2]).total_seconds()):\n",
    "                new_PASSENGERS_ON = data.PASSENGERS_ON[i-2] + data.PASSENGERS_ON[i]\n",
    "                new_PASSENGERS_OFF = data.PASSENGERS_OFF[i-2] + data.PASSENGERS_OFF[i]\n",
    "                new_PASSENGER_IN = data.PASSENGERS_IN[i]\n",
    "                data.loc[i-2,\"PASSENGERS_ON\"] = new_PASSENGERS_ON\n",
    "                data.loc[i-2,\"PASSENGERS_OFF\"] = new_PASSENGERS_OFF\n",
    "                data.loc[i-2,\"PASSENGERS_IN\"] = new_PASSENGER_IN\n",
    "\n",
    "\n",
    "            else :\n",
    "                new_PASSENGERS_ON = data.PASSENGERS_ON[i+2] + data.PASSENGERS_ON[i]\n",
    "                new_PASSENGERS_OFF = data.PASSENGERS_OFF[i+2] + data.PASSENGERS_OFF[i]\n",
    "                data.loc[i+2, \"PASSENGERS_ON\"] = new_PASSENGERS_ON\n",
    "                data.loc[i+2,\"PASSENGERS_OFF\"] = new_PASSENGERS_OFF\n",
    "        \n",
    "        if (data.TIMEPOINT[i+1]==0 and data.TIMEPOINT[i-1]==0):\n",
    "            \n",
    "            if (data.STOP_ID[i+1]==99999):\n",
    "        \n",
    "                if abs((data.TIME_ACTUAL_ARRIVE[i+2]-data.TIME_ACTUAL_ARRIVE[i]).total_seconds()) > abs((data.TIME_ACTUAL_ARRIVE[i]-data.TIME_ACTUAL_ARRIVE[i-1]).total_seconds()):\n",
    "                    new_PASSENGERS_ON = data.PASSENGERS_ON[i-1] + data.PASSENGERS_ON[i]\n",
    "                    new_PASSENGERS_OFF = data.PASSENGERS_OFF[i-1] + data.PASSENGERS_OFF[i]\n",
    "                    new_PASSENGER_IN = data.PASSENGERS_IN[i]\n",
    "                    data.loc[i-1,\"PASSENGERS_ON\"] = new_PASSENGERS_ON\n",
    "                    data.loc[i-1,\"PASSENGERS_OFF\"] = new_PASSENGERS_OFF\n",
    "                    data.loc[i-1,\"PASSENGERS_IN\"] = new_PASSENGER_IN\n",
    "\n",
    "\n",
    "                else :\n",
    "                    new_PASSENGERS_ON = data.PASSENGERS_ON[i+2] + data.PASSENGERS_ON[i]\n",
    "                    new_PASSENGERS_OFF = data.PASSENGERS_OFF[i+2] + data.PASSENGERS_OFF[i]\n",
    "                    data.loc[i+2, \"PASSENGERS_ON\"] = new_PASSENGERS_ON\n",
    "                    data.loc[i+2,\"PASSENGERS_OFF\"] = new_PASSENGERS_OFF\n",
    "                    \n",
    "            elif (data.STOP_ID[i-1]==99999):\n",
    "        \n",
    "                if abs((data.TIME_ACTUAL_ARRIVE[i+1]-data.TIME_ACTUAL_ARRIVE[i]).total_seconds()) > abs((data.TIME_ACTUAL_ARRIVE[i]-data.TIME_ACTUAL_ARRIVE[i-2]).total_seconds()):\n",
    "                    new_PASSENGERS_ON = data.PASSENGERS_ON[i-2] + data.PASSENGERS_ON[i]\n",
    "                    new_PASSENGERS_OFF = data.PASSENGERS_OFF[i-2] + data.PASSENGERS_OFF[i]\n",
    "                    new_PASSENGER_IN = data.PASSENGERS_IN[i]\n",
    "                    data.loc[i-2,\"PASSENGERS_ON\"] = new_PASSENGERS_ON\n",
    "                    data.loc[i-2,\"PASSENGERS_OFF\"] = new_PASSENGERS_OFF\n",
    "                    data.loc[i-2,\"PASSENGERS_IN\"] = new_PASSENGER_IN\n",
    "\n",
    "                else :\n",
    "                    new_PASSENGERS_ON = data.PASSENGERS_ON[i+1] + data.PASSENGERS_ON[i]\n",
    "                    new_PASSENGERS_OFF = data.PASSENGERS_OFF[i+1] + data.PASSENGERS_OFF[i]\n",
    "                    data.loc[i+1, \"PASSENGERS_ON\"] = new_PASSENGERS_ON\n",
    "                    data.loc[i+1,\"PASSENGERS_OFF\"] = new_PASSENGERS_OFF\n",
    "                \n",
    "            else:\n",
    "                \n",
    "                if abs((data.TIME_ACTUAL_ARRIVE[i+1]-data.TIME_ACTUAL_ARRIVE[i]).total_seconds()) > abs((data.TIME_ACTUAL_ARRIVE[i]-data.TIME_ACTUAL_ARRIVE[i-1]).total_seconds()):\n",
    "                    new_PASSENGERS_ON = data.PASSENGERS_ON[i-1] + data.PASSENGERS_ON[i]\n",
    "                    new_PASSENGERS_OFF = data.PASSENGERS_OFF[i-1] + data.PASSENGERS_OFF[i]\n",
    "                    new_PASSENGER_IN = data.PASSENGERS_IN[i]\n",
    "                    data.loc[i-1,\"PASSENGERS_ON\"] = new_PASSENGERS_ON\n",
    "                    data.loc[i-1,\"PASSENGERS_OFF\"] = new_PASSENGERS_OFF\n",
    "                    data.loc[i-1,\"PASSENGERS_IN\"] = new_PASSENGER_IN\n",
    "\n",
    "\n",
    "                else :\n",
    "                    new_PASSENGERS_ON = data.PASSENGERS_ON[i+1] + data.PASSENGERS_ON[i]\n",
    "                    new_PASSENGERS_OFF = data.PASSENGERS_OFF[i+1] + data.PASSENGERS_OFF[i]\n",
    "                    data.loc[i+1, \"PASSENGERS_ON\"] = new_PASSENGERS_ON\n",
    "                    data.loc[i+1,\"PASSENGERS_OFF\"] = new_PASSENGERS_OFF"
   ]
  },
  {
   "cell_type": "markdown",
   "metadata": {},
   "source": [
    "# "
   ]
  },
  {
   "cell_type": "code",
   "execution_count": 6,
   "metadata": {},
   "outputs": [],
   "source": [
    "data.drop(data[data['STOP_ID'] == 99999].index, inplace = True)\n",
    "            \n",
    "\n",
    "data.to_csv(\"Rule1-Output.csv\")"
   ]
  },
  {
   "cell_type": "code",
   "execution_count": null,
   "metadata": {},
   "outputs": [],
   "source": []
  }
 ],
 "metadata": {
  "kernelspec": {
   "display_name": "Python 3",
   "language": "python",
   "name": "python3"
  },
  "language_info": {
   "codemirror_mode": {
    "name": "ipython",
    "version": 3
   },
   "file_extension": ".py",
   "mimetype": "text/x-python",
   "name": "python",
   "nbconvert_exporter": "python",
   "pygments_lexer": "ipython3",
   "version": "3.7.6"
  }
 },
 "nbformat": 4,
 "nbformat_minor": 2
}
